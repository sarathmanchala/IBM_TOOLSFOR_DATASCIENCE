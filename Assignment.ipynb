{
  "nbformat": 4,
  "nbformat_minor": 0,
  "metadata": {
    "colab": {
      "provenance": []
    },
    "kernelspec": {
      "name": "python3",
      "display_name": "Python 3"
    },
    "language_info": {
      "name": "python"
    }
  },
  "cells": [
    {
      "cell_type": "markdown",
      "source": [
        "My Jupyter Notebook on IBM Watson Studio"
      ],
      "metadata": {
        "id": "UtfHVDv1-YJv"
      }
    },
    {
      "cell_type": "markdown",
      "source": [
        "**Manchala Sarath Brahma Teja**\n",
        "\n",
        "I want to be an Data Scientist\n"
      ],
      "metadata": {
        "id": "k4rgEmBQAK1a"
      }
    },
    {
      "cell_type": "markdown",
      "source": [
        "*As a student, I am interested in data science because it offers a unique opportunity to explore and analyze complex datasets, derive insights and make data-driven decisions, and ultimately solve real-world problems using technology and statistics.* "
      ],
      "metadata": {
        "id": "kAcfAUTxAfdA"
      }
    },
    {
      "cell_type": "markdown",
      "source": [
        "This code adds two numbers which are given through input and displays result"
      ],
      "metadata": {
        "id": "IEBXbJHwCU4Z"
      }
    },
    {
      "cell_type": "code",
      "source": [
        "a = int(input())\n",
        "b = int(input())\n",
        "c = a+b\n",
        "print(c)"
      ],
      "metadata": {
        "colab": {
          "base_uri": "https://localhost:8080/"
        },
        "id": "l5OcRFMQC3VA",
        "outputId": "1bccc2a8-045c-445f-b653-1593b1bc937b"
      },
      "execution_count": 1,
      "outputs": [
        {
          "output_type": "stream",
          "name": "stdout",
          "text": [
            "4\n",
            "5\n",
            "9\n"
          ]
        }
      ]
    },
    {
      "cell_type": "markdown",
      "source": [
        "\n",
        "\n",
        "---\n",
        "This is done M. Sarath Brahma Teja\n",
        "\n",
        "---\n",
        "\n",
        "\n",
        "\n",
        "*   Week1\n",
        "*   Week2\n",
        "\n",
        "1.   What is Data Science\n",
        "2.   Tools for Data Science\n",
        "\n",
        "[Coursera](https://in.coursera.org/professional-certificates/ibm-data-science)\n",
        "\n",
        "\n",
        "\n",
        "\n",
        "\n"
      ],
      "metadata": {
        "id": "N8oWKFgfDWmF"
      }
    }
  ]
}